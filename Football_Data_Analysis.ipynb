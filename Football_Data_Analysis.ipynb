{
  "nbformat": 4,
  "nbformat_minor": 0,
  "metadata": {
    "colab": {
      "name": "Football Data Analysis.ipynb",
      "provenance": [],
      "collapsed_sections": []
    },
    "kernelspec": {
      "name": "python3",
      "display_name": "Python 3"
    },
    "language_info": {
      "name": "python"
    }
  },
  "cells": [
    {
      "cell_type": "markdown",
      "metadata": {
        "id": "RyiMJnCE2LHT"
      },
      "source": [
        "In This notebook, I will be performing basic analysis on the players_20 Fifa dataset. Some questions related to the players wages, hieghts, and nationalities will be answered and analyzed."
      ]
    },
    {
      "cell_type": "code",
      "metadata": {
        "id": "AF1QWz5GWVBB"
      },
      "source": [
        "#loading the required libraries\n",
        "import pandas as pd # required for data manipulation\n",
        "import numpy as np # required for working with arrays\n",
        "import matplotlib.pyplot as plt # required for data visualization\n",
        "import seaborn as sns # built on top of matplot lib ad also required for data visualization"
      ],
      "execution_count": 21,
      "outputs": []
    },
    {
      "cell_type": "code",
      "metadata": {
        "id": "-wujNB4ng2iB",
        "colab": {
          "base_uri": "https://localhost:8080/"
        },
        "outputId": "9dd11091-9c62-4263-8e2d-11c9e8a83cc9"
      },
      "source": [
        "\n",
        "from google.colab import drive\n",
        "drive.mount('/content/drive', force_remount=True)\n",
        "\n",
        "path = \"/content/drive/MyDrive/Datasets/players_20.csv\"\n",
        "fifa_df = pd.read_csv(path)\n",
        "# Dataset is now stored in a Pandas Dataframe"
      ],
      "execution_count": 25,
      "outputs": [
        {
          "output_type": "stream",
          "text": [
            "Mounted at /content/drive\n"
          ],
          "name": "stdout"
        }
      ]
    },
    {
      "cell_type": "code",
      "metadata": {
        "id": "JV5maqMcj0TX"
      },
      "source": [
        "# another method to import the dataset\n",
        "  # from google.colab import files\n",
        "  # uploaded = files.upload()\n",
        "  # import io\n",
        "  # fifa_df = pd.read_csv(io.BytesIO(uploaded['players_20.csv']))\n",
        "  # Dataset is now stored in a Pandas Dataframe"
      ],
      "execution_count": null,
      "outputs": []
    },
    {
      "cell_type": "code",
      "metadata": {
        "id": "Iq40dnw0dkxz",
        "colab": {
          "base_uri": "https://localhost:8080/",
          "height": 479
        },
        "outputId": "30e38088-ae93-47a5-e09d-122f5d07db2f"
      },
      "source": [
        "# print the first 5 rows found in the players_20.csv\n",
        "fifa_df.head()"
      ],
      "execution_count": 26,
      "outputs": [
        {
          "output_type": "execute_result",
          "data": {
            "text/html": [
              "<div>\n",
              "<style scoped>\n",
              "    .dataframe tbody tr th:only-of-type {\n",
              "        vertical-align: middle;\n",
              "    }\n",
              "\n",
              "    .dataframe tbody tr th {\n",
              "        vertical-align: top;\n",
              "    }\n",
              "\n",
              "    .dataframe thead th {\n",
              "        text-align: right;\n",
              "    }\n",
              "</style>\n",
              "<table border=\"1\" class=\"dataframe\">\n",
              "  <thead>\n",
              "    <tr style=\"text-align: right;\">\n",
              "      <th></th>\n",
              "      <th>sofifa_id</th>\n",
              "      <th>player_url</th>\n",
              "      <th>short_name</th>\n",
              "      <th>long_name</th>\n",
              "      <th>age</th>\n",
              "      <th>dob</th>\n",
              "      <th>height_cm</th>\n",
              "      <th>weight_kg</th>\n",
              "      <th>nationality</th>\n",
              "      <th>club</th>\n",
              "      <th>overall</th>\n",
              "      <th>potential</th>\n",
              "      <th>value_eur</th>\n",
              "      <th>wage_eur</th>\n",
              "      <th>player_positions</th>\n",
              "      <th>preferred_foot</th>\n",
              "      <th>international_reputation</th>\n",
              "      <th>weak_foot</th>\n",
              "      <th>skill_moves</th>\n",
              "      <th>work_rate</th>\n",
              "      <th>body_type</th>\n",
              "      <th>real_face</th>\n",
              "      <th>release_clause_eur</th>\n",
              "      <th>player_tags</th>\n",
              "      <th>team_position</th>\n",
              "      <th>team_jersey_number</th>\n",
              "      <th>loaned_from</th>\n",
              "      <th>joined</th>\n",
              "      <th>contract_valid_until</th>\n",
              "      <th>nation_position</th>\n",
              "      <th>nation_jersey_number</th>\n",
              "      <th>pace</th>\n",
              "      <th>shooting</th>\n",
              "      <th>passing</th>\n",
              "      <th>dribbling</th>\n",
              "      <th>defending</th>\n",
              "      <th>physic</th>\n",
              "      <th>gk_diving</th>\n",
              "      <th>gk_handling</th>\n",
              "      <th>gk_kicking</th>\n",
              "      <th>...</th>\n",
              "      <th>mentality_aggression</th>\n",
              "      <th>mentality_interceptions</th>\n",
              "      <th>mentality_positioning</th>\n",
              "      <th>mentality_vision</th>\n",
              "      <th>mentality_penalties</th>\n",
              "      <th>mentality_composure</th>\n",
              "      <th>defending_marking</th>\n",
              "      <th>defending_standing_tackle</th>\n",
              "      <th>defending_sliding_tackle</th>\n",
              "      <th>goalkeeping_diving</th>\n",
              "      <th>goalkeeping_handling</th>\n",
              "      <th>goalkeeping_kicking</th>\n",
              "      <th>goalkeeping_positioning</th>\n",
              "      <th>goalkeeping_reflexes</th>\n",
              "      <th>ls</th>\n",
              "      <th>st</th>\n",
              "      <th>rs</th>\n",
              "      <th>lw</th>\n",
              "      <th>lf</th>\n",
              "      <th>cf</th>\n",
              "      <th>rf</th>\n",
              "      <th>rw</th>\n",
              "      <th>lam</th>\n",
              "      <th>cam</th>\n",
              "      <th>ram</th>\n",
              "      <th>lm</th>\n",
              "      <th>lcm</th>\n",
              "      <th>cm</th>\n",
              "      <th>rcm</th>\n",
              "      <th>rm</th>\n",
              "      <th>lwb</th>\n",
              "      <th>ldm</th>\n",
              "      <th>cdm</th>\n",
              "      <th>rdm</th>\n",
              "      <th>rwb</th>\n",
              "      <th>lb</th>\n",
              "      <th>lcb</th>\n",
              "      <th>cb</th>\n",
              "      <th>rcb</th>\n",
              "      <th>rb</th>\n",
              "    </tr>\n",
              "  </thead>\n",
              "  <tbody>\n",
              "    <tr>\n",
              "      <th>0</th>\n",
              "      <td>158023</td>\n",
              "      <td>https://sofifa.com/player/158023/lionel-messi/...</td>\n",
              "      <td>L. Messi</td>\n",
              "      <td>Lionel Andrés Messi Cuccittini</td>\n",
              "      <td>32</td>\n",
              "      <td>1987-06-24</td>\n",
              "      <td>170</td>\n",
              "      <td>72</td>\n",
              "      <td>Argentina</td>\n",
              "      <td>FC Barcelona</td>\n",
              "      <td>94</td>\n",
              "      <td>94</td>\n",
              "      <td>95500000</td>\n",
              "      <td>565000</td>\n",
              "      <td>RW, CF, ST</td>\n",
              "      <td>Left</td>\n",
              "      <td>5</td>\n",
              "      <td>4</td>\n",
              "      <td>4</td>\n",
              "      <td>Medium/Low</td>\n",
              "      <td>Messi</td>\n",
              "      <td>Yes</td>\n",
              "      <td>195800000.0</td>\n",
              "      <td>#Dribbler, #Distance Shooter, #Crosser, #FK Sp...</td>\n",
              "      <td>RW</td>\n",
              "      <td>10.0</td>\n",
              "      <td>NaN</td>\n",
              "      <td>2004-07-01</td>\n",
              "      <td>2021.0</td>\n",
              "      <td>NaN</td>\n",
              "      <td>NaN</td>\n",
              "      <td>87.0</td>\n",
              "      <td>92.0</td>\n",
              "      <td>92.0</td>\n",
              "      <td>96.0</td>\n",
              "      <td>39.0</td>\n",
              "      <td>66.0</td>\n",
              "      <td>NaN</td>\n",
              "      <td>NaN</td>\n",
              "      <td>NaN</td>\n",
              "      <td>...</td>\n",
              "      <td>48</td>\n",
              "      <td>40</td>\n",
              "      <td>94</td>\n",
              "      <td>94</td>\n",
              "      <td>75</td>\n",
              "      <td>96</td>\n",
              "      <td>33</td>\n",
              "      <td>37</td>\n",
              "      <td>26</td>\n",
              "      <td>6</td>\n",
              "      <td>11</td>\n",
              "      <td>15</td>\n",
              "      <td>14</td>\n",
              "      <td>8</td>\n",
              "      <td>89+2</td>\n",
              "      <td>89+2</td>\n",
              "      <td>89+2</td>\n",
              "      <td>93+2</td>\n",
              "      <td>93+2</td>\n",
              "      <td>93+2</td>\n",
              "      <td>93+2</td>\n",
              "      <td>93+2</td>\n",
              "      <td>93+2</td>\n",
              "      <td>93+2</td>\n",
              "      <td>93+2</td>\n",
              "      <td>92+2</td>\n",
              "      <td>87+2</td>\n",
              "      <td>87+2</td>\n",
              "      <td>87+2</td>\n",
              "      <td>92+2</td>\n",
              "      <td>68+2</td>\n",
              "      <td>66+2</td>\n",
              "      <td>66+2</td>\n",
              "      <td>66+2</td>\n",
              "      <td>68+2</td>\n",
              "      <td>63+2</td>\n",
              "      <td>52+2</td>\n",
              "      <td>52+2</td>\n",
              "      <td>52+2</td>\n",
              "      <td>63+2</td>\n",
              "    </tr>\n",
              "    <tr>\n",
              "      <th>1</th>\n",
              "      <td>20801</td>\n",
              "      <td>https://sofifa.com/player/20801/c-ronaldo-dos-...</td>\n",
              "      <td>Cristiano Ronaldo</td>\n",
              "      <td>Cristiano Ronaldo dos Santos Aveiro</td>\n",
              "      <td>34</td>\n",
              "      <td>1985-02-05</td>\n",
              "      <td>187</td>\n",
              "      <td>83</td>\n",
              "      <td>Portugal</td>\n",
              "      <td>Juventus</td>\n",
              "      <td>93</td>\n",
              "      <td>93</td>\n",
              "      <td>58500000</td>\n",
              "      <td>405000</td>\n",
              "      <td>ST, LW</td>\n",
              "      <td>Right</td>\n",
              "      <td>5</td>\n",
              "      <td>4</td>\n",
              "      <td>5</td>\n",
              "      <td>High/Low</td>\n",
              "      <td>C. Ronaldo</td>\n",
              "      <td>Yes</td>\n",
              "      <td>96500000.0</td>\n",
              "      <td>#Speedster, #Dribbler, #Distance Shooter, #Acr...</td>\n",
              "      <td>LW</td>\n",
              "      <td>7.0</td>\n",
              "      <td>NaN</td>\n",
              "      <td>2018-07-10</td>\n",
              "      <td>2022.0</td>\n",
              "      <td>LS</td>\n",
              "      <td>7.0</td>\n",
              "      <td>90.0</td>\n",
              "      <td>93.0</td>\n",
              "      <td>82.0</td>\n",
              "      <td>89.0</td>\n",
              "      <td>35.0</td>\n",
              "      <td>78.0</td>\n",
              "      <td>NaN</td>\n",
              "      <td>NaN</td>\n",
              "      <td>NaN</td>\n",
              "      <td>...</td>\n",
              "      <td>63</td>\n",
              "      <td>29</td>\n",
              "      <td>95</td>\n",
              "      <td>82</td>\n",
              "      <td>85</td>\n",
              "      <td>95</td>\n",
              "      <td>28</td>\n",
              "      <td>32</td>\n",
              "      <td>24</td>\n",
              "      <td>7</td>\n",
              "      <td>11</td>\n",
              "      <td>15</td>\n",
              "      <td>14</td>\n",
              "      <td>11</td>\n",
              "      <td>91+3</td>\n",
              "      <td>91+3</td>\n",
              "      <td>91+3</td>\n",
              "      <td>89+3</td>\n",
              "      <td>90+3</td>\n",
              "      <td>90+3</td>\n",
              "      <td>90+3</td>\n",
              "      <td>89+3</td>\n",
              "      <td>88+3</td>\n",
              "      <td>88+3</td>\n",
              "      <td>88+3</td>\n",
              "      <td>88+3</td>\n",
              "      <td>81+3</td>\n",
              "      <td>81+3</td>\n",
              "      <td>81+3</td>\n",
              "      <td>88+3</td>\n",
              "      <td>65+3</td>\n",
              "      <td>61+3</td>\n",
              "      <td>61+3</td>\n",
              "      <td>61+3</td>\n",
              "      <td>65+3</td>\n",
              "      <td>61+3</td>\n",
              "      <td>53+3</td>\n",
              "      <td>53+3</td>\n",
              "      <td>53+3</td>\n",
              "      <td>61+3</td>\n",
              "    </tr>\n",
              "    <tr>\n",
              "      <th>2</th>\n",
              "      <td>190871</td>\n",
              "      <td>https://sofifa.com/player/190871/neymar-da-sil...</td>\n",
              "      <td>Neymar Jr</td>\n",
              "      <td>Neymar da Silva Santos Junior</td>\n",
              "      <td>27</td>\n",
              "      <td>1992-02-05</td>\n",
              "      <td>175</td>\n",
              "      <td>68</td>\n",
              "      <td>Brazil</td>\n",
              "      <td>Paris Saint-Germain</td>\n",
              "      <td>92</td>\n",
              "      <td>92</td>\n",
              "      <td>105500000</td>\n",
              "      <td>290000</td>\n",
              "      <td>LW, CAM</td>\n",
              "      <td>Right</td>\n",
              "      <td>5</td>\n",
              "      <td>5</td>\n",
              "      <td>5</td>\n",
              "      <td>High/Medium</td>\n",
              "      <td>Neymar</td>\n",
              "      <td>Yes</td>\n",
              "      <td>195200000.0</td>\n",
              "      <td>#Speedster, #Dribbler, #Playmaker  , #Crosser,...</td>\n",
              "      <td>CAM</td>\n",
              "      <td>10.0</td>\n",
              "      <td>NaN</td>\n",
              "      <td>2017-08-03</td>\n",
              "      <td>2022.0</td>\n",
              "      <td>LW</td>\n",
              "      <td>10.0</td>\n",
              "      <td>91.0</td>\n",
              "      <td>85.0</td>\n",
              "      <td>87.0</td>\n",
              "      <td>95.0</td>\n",
              "      <td>32.0</td>\n",
              "      <td>58.0</td>\n",
              "      <td>NaN</td>\n",
              "      <td>NaN</td>\n",
              "      <td>NaN</td>\n",
              "      <td>...</td>\n",
              "      <td>51</td>\n",
              "      <td>36</td>\n",
              "      <td>87</td>\n",
              "      <td>90</td>\n",
              "      <td>90</td>\n",
              "      <td>94</td>\n",
              "      <td>27</td>\n",
              "      <td>26</td>\n",
              "      <td>29</td>\n",
              "      <td>9</td>\n",
              "      <td>9</td>\n",
              "      <td>15</td>\n",
              "      <td>15</td>\n",
              "      <td>11</td>\n",
              "      <td>84+3</td>\n",
              "      <td>84+3</td>\n",
              "      <td>84+3</td>\n",
              "      <td>90+3</td>\n",
              "      <td>89+3</td>\n",
              "      <td>89+3</td>\n",
              "      <td>89+3</td>\n",
              "      <td>90+3</td>\n",
              "      <td>90+3</td>\n",
              "      <td>90+3</td>\n",
              "      <td>90+3</td>\n",
              "      <td>89+3</td>\n",
              "      <td>82+3</td>\n",
              "      <td>82+3</td>\n",
              "      <td>82+3</td>\n",
              "      <td>89+3</td>\n",
              "      <td>66+3</td>\n",
              "      <td>61+3</td>\n",
              "      <td>61+3</td>\n",
              "      <td>61+3</td>\n",
              "      <td>66+3</td>\n",
              "      <td>61+3</td>\n",
              "      <td>46+3</td>\n",
              "      <td>46+3</td>\n",
              "      <td>46+3</td>\n",
              "      <td>61+3</td>\n",
              "    </tr>\n",
              "    <tr>\n",
              "      <th>3</th>\n",
              "      <td>200389</td>\n",
              "      <td>https://sofifa.com/player/200389/jan-oblak/20/...</td>\n",
              "      <td>J. Oblak</td>\n",
              "      <td>Jan Oblak</td>\n",
              "      <td>26</td>\n",
              "      <td>1993-01-07</td>\n",
              "      <td>188</td>\n",
              "      <td>87</td>\n",
              "      <td>Slovenia</td>\n",
              "      <td>Atlético Madrid</td>\n",
              "      <td>91</td>\n",
              "      <td>93</td>\n",
              "      <td>77500000</td>\n",
              "      <td>125000</td>\n",
              "      <td>GK</td>\n",
              "      <td>Right</td>\n",
              "      <td>3</td>\n",
              "      <td>3</td>\n",
              "      <td>1</td>\n",
              "      <td>Medium/Medium</td>\n",
              "      <td>Normal</td>\n",
              "      <td>Yes</td>\n",
              "      <td>164700000.0</td>\n",
              "      <td>NaN</td>\n",
              "      <td>GK</td>\n",
              "      <td>13.0</td>\n",
              "      <td>NaN</td>\n",
              "      <td>2014-07-16</td>\n",
              "      <td>2023.0</td>\n",
              "      <td>GK</td>\n",
              "      <td>1.0</td>\n",
              "      <td>NaN</td>\n",
              "      <td>NaN</td>\n",
              "      <td>NaN</td>\n",
              "      <td>NaN</td>\n",
              "      <td>NaN</td>\n",
              "      <td>NaN</td>\n",
              "      <td>87.0</td>\n",
              "      <td>92.0</td>\n",
              "      <td>78.0</td>\n",
              "      <td>...</td>\n",
              "      <td>34</td>\n",
              "      <td>19</td>\n",
              "      <td>11</td>\n",
              "      <td>65</td>\n",
              "      <td>11</td>\n",
              "      <td>68</td>\n",
              "      <td>27</td>\n",
              "      <td>12</td>\n",
              "      <td>18</td>\n",
              "      <td>87</td>\n",
              "      <td>92</td>\n",
              "      <td>78</td>\n",
              "      <td>90</td>\n",
              "      <td>89</td>\n",
              "      <td>NaN</td>\n",
              "      <td>NaN</td>\n",
              "      <td>NaN</td>\n",
              "      <td>NaN</td>\n",
              "      <td>NaN</td>\n",
              "      <td>NaN</td>\n",
              "      <td>NaN</td>\n",
              "      <td>NaN</td>\n",
              "      <td>NaN</td>\n",
              "      <td>NaN</td>\n",
              "      <td>NaN</td>\n",
              "      <td>NaN</td>\n",
              "      <td>NaN</td>\n",
              "      <td>NaN</td>\n",
              "      <td>NaN</td>\n",
              "      <td>NaN</td>\n",
              "      <td>NaN</td>\n",
              "      <td>NaN</td>\n",
              "      <td>NaN</td>\n",
              "      <td>NaN</td>\n",
              "      <td>NaN</td>\n",
              "      <td>NaN</td>\n",
              "      <td>NaN</td>\n",
              "      <td>NaN</td>\n",
              "      <td>NaN</td>\n",
              "      <td>NaN</td>\n",
              "    </tr>\n",
              "    <tr>\n",
              "      <th>4</th>\n",
              "      <td>183277</td>\n",
              "      <td>https://sofifa.com/player/183277/eden-hazard/2...</td>\n",
              "      <td>E. Hazard</td>\n",
              "      <td>Eden Hazard</td>\n",
              "      <td>28</td>\n",
              "      <td>1991-01-07</td>\n",
              "      <td>175</td>\n",
              "      <td>74</td>\n",
              "      <td>Belgium</td>\n",
              "      <td>Real Madrid</td>\n",
              "      <td>91</td>\n",
              "      <td>91</td>\n",
              "      <td>90000000</td>\n",
              "      <td>470000</td>\n",
              "      <td>LW, CF</td>\n",
              "      <td>Right</td>\n",
              "      <td>4</td>\n",
              "      <td>4</td>\n",
              "      <td>4</td>\n",
              "      <td>High/Medium</td>\n",
              "      <td>Normal</td>\n",
              "      <td>Yes</td>\n",
              "      <td>184500000.0</td>\n",
              "      <td>#Speedster, #Dribbler, #Acrobat</td>\n",
              "      <td>LW</td>\n",
              "      <td>7.0</td>\n",
              "      <td>NaN</td>\n",
              "      <td>2019-07-01</td>\n",
              "      <td>2024.0</td>\n",
              "      <td>LF</td>\n",
              "      <td>10.0</td>\n",
              "      <td>91.0</td>\n",
              "      <td>83.0</td>\n",
              "      <td>86.0</td>\n",
              "      <td>94.0</td>\n",
              "      <td>35.0</td>\n",
              "      <td>66.0</td>\n",
              "      <td>NaN</td>\n",
              "      <td>NaN</td>\n",
              "      <td>NaN</td>\n",
              "      <td>...</td>\n",
              "      <td>54</td>\n",
              "      <td>41</td>\n",
              "      <td>87</td>\n",
              "      <td>89</td>\n",
              "      <td>88</td>\n",
              "      <td>91</td>\n",
              "      <td>34</td>\n",
              "      <td>27</td>\n",
              "      <td>22</td>\n",
              "      <td>11</td>\n",
              "      <td>12</td>\n",
              "      <td>6</td>\n",
              "      <td>8</td>\n",
              "      <td>8</td>\n",
              "      <td>83+3</td>\n",
              "      <td>83+3</td>\n",
              "      <td>83+3</td>\n",
              "      <td>89+3</td>\n",
              "      <td>88+3</td>\n",
              "      <td>88+3</td>\n",
              "      <td>88+3</td>\n",
              "      <td>89+3</td>\n",
              "      <td>89+3</td>\n",
              "      <td>89+3</td>\n",
              "      <td>89+3</td>\n",
              "      <td>89+3</td>\n",
              "      <td>83+3</td>\n",
              "      <td>83+3</td>\n",
              "      <td>83+3</td>\n",
              "      <td>89+3</td>\n",
              "      <td>66+3</td>\n",
              "      <td>63+3</td>\n",
              "      <td>63+3</td>\n",
              "      <td>63+3</td>\n",
              "      <td>66+3</td>\n",
              "      <td>61+3</td>\n",
              "      <td>49+3</td>\n",
              "      <td>49+3</td>\n",
              "      <td>49+3</td>\n",
              "      <td>61+3</td>\n",
              "    </tr>\n",
              "  </tbody>\n",
              "</table>\n",
              "<p>5 rows × 104 columns</p>\n",
              "</div>"
            ],
            "text/plain": [
              "   sofifa_id                                         player_url  ...   rcb    rb\n",
              "0     158023  https://sofifa.com/player/158023/lionel-messi/...  ...  52+2  63+2\n",
              "1      20801  https://sofifa.com/player/20801/c-ronaldo-dos-...  ...  53+3  61+3\n",
              "2     190871  https://sofifa.com/player/190871/neymar-da-sil...  ...  46+3  61+3\n",
              "3     200389  https://sofifa.com/player/200389/jan-oblak/20/...  ...   NaN   NaN\n",
              "4     183277  https://sofifa.com/player/183277/eden-hazard/2...  ...  49+3  61+3\n",
              "\n",
              "[5 rows x 104 columns]"
            ]
          },
          "metadata": {
            "tags": []
          },
          "execution_count": 26
        }
      ]
    },
    {
      "cell_type": "code",
      "metadata": {
        "id": "muiU20jqdwtL",
        "colab": {
          "base_uri": "https://localhost:8080/"
        },
        "outputId": "2fc62196-08cc-4b61-922e-080fc80874dd"
      },
      "source": [
        "# print all the columns names\n",
        "for col in fifa_df.columns:\n",
        "  print(col)"
      ],
      "execution_count": 27,
      "outputs": [
        {
          "output_type": "stream",
          "text": [
            "sofifa_id\n",
            "player_url\n",
            "short_name\n",
            "long_name\n",
            "age\n",
            "dob\n",
            "height_cm\n",
            "weight_kg\n",
            "nationality\n",
            "club\n",
            "overall\n",
            "potential\n",
            "value_eur\n",
            "wage_eur\n",
            "player_positions\n",
            "preferred_foot\n",
            "international_reputation\n",
            "weak_foot\n",
            "skill_moves\n",
            "work_rate\n",
            "body_type\n",
            "real_face\n",
            "release_clause_eur\n",
            "player_tags\n",
            "team_position\n",
            "team_jersey_number\n",
            "loaned_from\n",
            "joined\n",
            "contract_valid_until\n",
            "nation_position\n",
            "nation_jersey_number\n",
            "pace\n",
            "shooting\n",
            "passing\n",
            "dribbling\n",
            "defending\n",
            "physic\n",
            "gk_diving\n",
            "gk_handling\n",
            "gk_kicking\n",
            "gk_reflexes\n",
            "gk_speed\n",
            "gk_positioning\n",
            "player_traits\n",
            "attacking_crossing\n",
            "attacking_finishing\n",
            "attacking_heading_accuracy\n",
            "attacking_short_passing\n",
            "attacking_volleys\n",
            "skill_dribbling\n",
            "skill_curve\n",
            "skill_fk_accuracy\n",
            "skill_long_passing\n",
            "skill_ball_control\n",
            "movement_acceleration\n",
            "movement_sprint_speed\n",
            "movement_agility\n",
            "movement_reactions\n",
            "movement_balance\n",
            "power_shot_power\n",
            "power_jumping\n",
            "power_stamina\n",
            "power_strength\n",
            "power_long_shots\n",
            "mentality_aggression\n",
            "mentality_interceptions\n",
            "mentality_positioning\n",
            "mentality_vision\n",
            "mentality_penalties\n",
            "mentality_composure\n",
            "defending_marking\n",
            "defending_standing_tackle\n",
            "defending_sliding_tackle\n",
            "goalkeeping_diving\n",
            "goalkeeping_handling\n",
            "goalkeeping_kicking\n",
            "goalkeeping_positioning\n",
            "goalkeeping_reflexes\n",
            "ls\n",
            "st\n",
            "rs\n",
            "lw\n",
            "lf\n",
            "cf\n",
            "rf\n",
            "rw\n",
            "lam\n",
            "cam\n",
            "ram\n",
            "lm\n",
            "lcm\n",
            "cm\n",
            "rcm\n",
            "rm\n",
            "lwb\n",
            "ldm\n",
            "cdm\n",
            "rdm\n",
            "rwb\n",
            "lb\n",
            "lcb\n",
            "cb\n",
            "rcb\n",
            "rb\n"
          ],
          "name": "stdout"
        }
      ]
    },
    {
      "cell_type": "code",
      "metadata": {
        "id": "Sq5Zzv7LerFY",
        "colab": {
          "base_uri": "https://localhost:8080/"
        },
        "outputId": "e8f638bd-1f92-42eb-cc70-7fe10aeacad8"
      },
      "source": [
        "# see how many rows and columns are found in this dataframe\n",
        "fifa_df.shape\n",
        "# there are 18278 rows (records) and 104 columns"
      ],
      "execution_count": 28,
      "outputs": [
        {
          "output_type": "execute_result",
          "data": {
            "text/plain": [
              "(18278, 104)"
            ]
          },
          "metadata": {
            "tags": []
          },
          "execution_count": 28
        }
      ]
    },
    {
      "cell_type": "code",
      "metadata": {
        "id": "vQU7sXdWfLqK",
        "colab": {
          "base_uri": "https://localhost:8080/"
        },
        "outputId": "87822ba6-0ad3-4e4a-f525-2080ddfba23a"
      },
      "source": [
        "# the vlaue counts method gives us the frequency count of the different categories which are present in the dataframe\n",
        "# these frequencies will be listed in a sorted manner\n",
        "fifa_df['nationality'].value_counts()\n",
        "\n",
        "# We can see that most of the players are from England"
      ],
      "execution_count": 80,
      "outputs": [
        {
          "output_type": "execute_result",
          "data": {
            "text/plain": [
              "England      1667\n",
              "Germany      1216\n",
              "Spain        1035\n",
              "France        984\n",
              "Argentina     886\n",
              "             ... \n",
              "Mauritius       1\n",
              "Macau           1\n",
              "Bahrain         1\n",
              "Vietnam         1\n",
              "Malawi          1\n",
              "Name: nationality, Length: 162, dtype: int64"
            ]
          },
          "metadata": {
            "tags": []
          },
          "execution_count": 80
        }
      ]
    },
    {
      "cell_type": "code",
      "metadata": {
        "colab": {
          "base_uri": "https://localhost:8080/"
        },
        "id": "x3uwsOsWk6jb",
        "outputId": "db061490-32ea-462f-8f63-85f946db67b8"
      },
      "source": [
        "# To view the top 10 countries where most of the players belong to\n",
        "fifa_df['nationality'].value_counts()[0:10]"
      ],
      "execution_count": 33,
      "outputs": [
        {
          "output_type": "execute_result",
          "data": {
            "text/plain": [
              "England        1667\n",
              "Germany        1216\n",
              "Spain          1035\n",
              "France          984\n",
              "Argentina       886\n",
              "Brazil          824\n",
              "Italy           732\n",
              "Colombia        591\n",
              "Japan           453\n",
              "Netherlands     416\n",
              "Name: nationality, dtype: int64"
            ]
          },
          "metadata": {
            "tags": []
          },
          "execution_count": 33
        }
      ]
    },
    {
      "cell_type": "code",
      "metadata": {
        "colab": {
          "base_uri": "https://localhost:8080/"
        },
        "id": "3kqNSABGl1iW",
        "outputId": "311b3f59-28f1-4088-9c4e-ead4c84df48d"
      },
      "source": [
        "# Likewise, to view the top 5 countries where most of the players belong to\n",
        "fifa_df['nationality'].value_counts()[0:5]"
      ],
      "execution_count": 34,
      "outputs": [
        {
          "output_type": "execute_result",
          "data": {
            "text/plain": [
              "England      1667\n",
              "Germany      1216\n",
              "Spain        1035\n",
              "France        984\n",
              "Argentina     886\n",
              "Name: nationality, dtype: int64"
            ]
          },
          "metadata": {
            "tags": []
          },
          "execution_count": 34
        }
      ]
    },
    {
      "cell_type": "code",
      "metadata": {
        "colab": {
          "base_uri": "https://localhost:8080/"
        },
        "id": "bzocRui3mJdm",
        "outputId": "9ff43adf-58b5-4035-d338-86bb5247ee46"
      },
      "source": [
        "# just view the top 5 countries names w/o listing the frequency count \n",
        "fifa_df['nationality'].value_counts()[0:5].keys()"
      ],
      "execution_count": 37,
      "outputs": [
        {
          "output_type": "execute_result",
          "data": {
            "text/plain": [
              "Index(['England', 'Germany', 'Spain', 'France', 'Argentina'], dtype='object')"
            ]
          },
          "metadata": {
            "tags": []
          },
          "execution_count": 37
        }
      ]
    },
    {
      "cell_type": "code",
      "metadata": {
        "colab": {
          "base_uri": "https://localhost:8080/",
          "height": 337
        },
        "id": "knP9-LGhl-GN",
        "outputId": "adf35395-4f1d-4db8-ff3f-1c234cace534"
      },
      "source": [
        "# Make a bar plot for these 5 coutries where most of the players come from\n",
        "plt.figure(figsize=(7,5))\n",
        "plt.bar(fifa_df['nationality'].value_counts()[0:5].keys(),fifa_df['nationality'].value_counts()[0:5],color='b')\n",
        "# or \n",
        "# plt.bar(list(fifa_df['nationality'].value_counts()[0:5].keys()),list(fifa_df['nationality'].value_counts()[0:5]),color='b')\n",
        "plt.show"
      ],
      "execution_count": 61,
      "outputs": [
        {
          "output_type": "execute_result",
          "data": {
            "text/plain": [
              "<function matplotlib.pyplot.show>"
            ]
          },
          "metadata": {
            "tags": []
          },
          "execution_count": 61
        },
        {
          "output_type": "display_data",
          "data": {
            "image/png": "[encoded data removed]",
            "text/plain": [
              "<Figure size 504x360 with 1 Axes>"
            ]
          },
          "metadata": {
            "tags": [],
            "needs_background": "light"
          }
        }
      ]
    },
    {
      "cell_type": "code",
      "metadata": {
        "colab": {
          "base_uri": "https://localhost:8080/",
          "height": 195
        },
        "id": "e-yBx7S8nZz8",
        "outputId": "d80ac104-a09c-4535-b739-9084a953e441"
      },
      "source": [
        "# Let's see what are the salaries of some of those player\n",
        "# In order to do so:\n",
        "# from the entire fifa dataframe we want to extract only two columns (i.e. short_name \"short name of the player\" , wage_eur \"his wage in euro\")\n",
        "\n",
        "player_salary = fifa_df[['short_name','wage_eur']]\n",
        "\n",
        "# view the first five entries\n",
        "\n",
        "player_salary.head()"
      ],
      "execution_count": 54,
      "outputs": [
        {
          "output_type": "execute_result",
          "data": {
            "text/html": [
              "<div>\n",
              "<style scoped>\n",
              "    .dataframe tbody tr th:only-of-type {\n",
              "        vertical-align: middle;\n",
              "    }\n",
              "\n",
              "    .dataframe tbody tr th {\n",
              "        vertical-align: top;\n",
              "    }\n",
              "\n",
              "    .dataframe thead th {\n",
              "        text-align: right;\n",
              "    }\n",
              "</style>\n",
              "<table border=\"1\" class=\"dataframe\">\n",
              "  <thead>\n",
              "    <tr style=\"text-align: right;\">\n",
              "      <th></th>\n",
              "      <th>short_name</th>\n",
              "      <th>wage_eur</th>\n",
              "    </tr>\n",
              "  </thead>\n",
              "  <tbody>\n",
              "    <tr>\n",
              "      <th>0</th>\n",
              "      <td>L. Messi</td>\n",
              "      <td>565000</td>\n",
              "    </tr>\n",
              "    <tr>\n",
              "      <th>1</th>\n",
              "      <td>Cristiano Ronaldo</td>\n",
              "      <td>405000</td>\n",
              "    </tr>\n",
              "    <tr>\n",
              "      <th>2</th>\n",
              "      <td>Neymar Jr</td>\n",
              "      <td>290000</td>\n",
              "    </tr>\n",
              "    <tr>\n",
              "      <th>3</th>\n",
              "      <td>J. Oblak</td>\n",
              "      <td>125000</td>\n",
              "    </tr>\n",
              "    <tr>\n",
              "      <th>4</th>\n",
              "      <td>E. Hazard</td>\n",
              "      <td>470000</td>\n",
              "    </tr>\n",
              "  </tbody>\n",
              "</table>\n",
              "</div>"
            ],
            "text/plain": [
              "          short_name  wage_eur\n",
              "0           L. Messi    565000\n",
              "1  Cristiano Ronaldo    405000\n",
              "2          Neymar Jr    290000\n",
              "3           J. Oblak    125000\n",
              "4          E. Hazard    470000"
            ]
          },
          "metadata": {
            "tags": []
          },
          "execution_count": 54
        }
      ]
    },
    {
      "cell_type": "code",
      "metadata": {
        "colab": {
          "base_uri": "https://localhost:8080/",
          "height": 195
        },
        "id": "DMgmD3gdpmAZ",
        "outputId": "992fc13a-fa1e-467a-eadb-dc7b0c907675"
      },
      "source": [
        "# Let's see who is the highest paid football players by sorting them with respect to the wage column\n",
        "\n",
        "player_salary = player_salary.sort_values(by=['wage_eur'],ascending=False)\n",
        "\n",
        "# view the highest 5 paid players\n",
        "\n",
        "player_salary.head()"
      ],
      "execution_count": 60,
      "outputs": [
        {
          "output_type": "execute_result",
          "data": {
            "text/html": [
              "<div>\n",
              "<style scoped>\n",
              "    .dataframe tbody tr th:only-of-type {\n",
              "        vertical-align: middle;\n",
              "    }\n",
              "\n",
              "    .dataframe tbody tr th {\n",
              "        vertical-align: top;\n",
              "    }\n",
              "\n",
              "    .dataframe thead th {\n",
              "        text-align: right;\n",
              "    }\n",
              "</style>\n",
              "<table border=\"1\" class=\"dataframe\">\n",
              "  <thead>\n",
              "    <tr style=\"text-align: right;\">\n",
              "      <th></th>\n",
              "      <th>short_name</th>\n",
              "      <th>wage_eur</th>\n",
              "    </tr>\n",
              "  </thead>\n",
              "  <tbody>\n",
              "    <tr>\n",
              "      <th>0</th>\n",
              "      <td>L. Messi</td>\n",
              "      <td>565000</td>\n",
              "    </tr>\n",
              "    <tr>\n",
              "      <th>4</th>\n",
              "      <td>E. Hazard</td>\n",
              "      <td>470000</td>\n",
              "    </tr>\n",
              "    <tr>\n",
              "      <th>1</th>\n",
              "      <td>Cristiano Ronaldo</td>\n",
              "      <td>405000</td>\n",
              "    </tr>\n",
              "    <tr>\n",
              "      <th>22</th>\n",
              "      <td>A. Griezmann</td>\n",
              "      <td>370000</td>\n",
              "    </tr>\n",
              "    <tr>\n",
              "      <th>5</th>\n",
              "      <td>K. De Bruyne</td>\n",
              "      <td>370000</td>\n",
              "    </tr>\n",
              "  </tbody>\n",
              "</table>\n",
              "</div>"
            ],
            "text/plain": [
              "           short_name  wage_eur\n",
              "0            L. Messi    565000\n",
              "4           E. Hazard    470000\n",
              "1   Cristiano Ronaldo    405000\n",
              "22       A. Griezmann    370000\n",
              "5        K. De Bruyne    370000"
            ]
          },
          "metadata": {
            "tags": []
          },
          "execution_count": 60
        }
      ]
    },
    {
      "cell_type": "code",
      "metadata": {
        "colab": {
          "base_uri": "https://localhost:8080/",
          "height": 320
        },
        "id": "F-XAUhIWqkeb",
        "outputId": "49b64f2b-71bd-4709-9a67-04cff9ff685a"
      },
      "source": [
        "# Make a figure and size it\n",
        "plt.figure(figsize=(8,5))\n",
        "\n",
        "# set the x-axis and the y-axis of the bar chart\n",
        "plt.bar(player_salary['short_name'][0:5],player_salary['wage_eur'][0:5],color=['r','g','b','y','c']) \n",
        "# or\n",
        "# plt.bar(list(player_salary['short_name'])[0:5],list(player_salary['wage_eur'])[0:5],color='b')\n",
        "\n",
        "# show it\n",
        "plt.show()"
      ],
      "execution_count": 92,
      "outputs": [
        {
          "output_type": "display_data",
          "data": {
            "image/png": "[encoded data removed]",
            "text/plain": [
              "<Figure size 576x360 with 1 Axes>"
            ]
          },
          "metadata": {
            "tags": [],
            "needs_background": "light"
          }
        }
      ]
    },
    {
      "cell_type": "code",
      "metadata": {
        "colab": {
          "base_uri": "https://localhost:8080/"
        },
        "id": "X-DVLuHcsMyx",
        "outputId": "be2b1c17-0560-4d1d-e123-83a70441742f"
      },
      "source": [
        "fifa_df['nationality']=='Egypt'"
      ],
      "execution_count": 91,
      "outputs": [
        {
          "output_type": "execute_result",
          "data": {
            "text/plain": [
              "0        False\n",
              "1        False\n",
              "2        False\n",
              "3        False\n",
              "4        False\n",
              "         ...  \n",
              "18273    False\n",
              "18274    False\n",
              "18275    False\n",
              "18276    False\n",
              "18277    False\n",
              "Name: nationality, Length: 18278, dtype: bool"
            ]
          },
          "metadata": {
            "tags": []
          },
          "execution_count": 91
        }
      ]
    },
    {
      "cell_type": "code",
      "metadata": {
        "colab": {
          "base_uri": "https://localhost:8080/",
          "height": 195
        },
        "id": "E7eQFsietePY",
        "outputId": "9b915fb6-03c7-40c4-bfcb-aec0e1d90055"
      },
      "source": [
        "# In or to have a list of the Egyptain players sorted according to their salaries\n",
        "\n",
        "# 1)\n",
        "Egypt = fifa_df[fifa_df['nationality']=='Egypt']\n",
        "\n",
        "# Now we have a dataframe which contains all the Egyptain players\n",
        "\n",
        "# 2)\n",
        "Egypt = Egypt[['short_name','wage_eur']]\n",
        "\n",
        "# Now we have filtered this dataframe to contain only two columns (i.e. 'short_name' and 'wage_eur')\n",
        "\n",
        "# 3)\n",
        "Egypt = Egypt.sort_values(by=['wage_eur'],ascending=False)\n",
        "\n",
        "# This line sorts these players based on their wages\n",
        "\n",
        "Egypt.head()\n",
        "\n",
        "# show the highest 5 paid Egyptain players"
      ],
      "execution_count": 109,
      "outputs": [
        {
          "output_type": "execute_result",
          "data": {
            "text/html": [
              "<div>\n",
              "<style scoped>\n",
              "    .dataframe tbody tr th:only-of-type {\n",
              "        vertical-align: middle;\n",
              "    }\n",
              "\n",
              "    .dataframe tbody tr th {\n",
              "        vertical-align: top;\n",
              "    }\n",
              "\n",
              "    .dataframe thead th {\n",
              "        text-align: right;\n",
              "    }\n",
              "</style>\n",
              "<table border=\"1\" class=\"dataframe\">\n",
              "  <thead>\n",
              "    <tr style=\"text-align: right;\">\n",
              "      <th></th>\n",
              "      <th>short_name</th>\n",
              "      <th>wage_eur</th>\n",
              "    </tr>\n",
              "  </thead>\n",
              "  <tbody>\n",
              "    <tr>\n",
              "      <th>9</th>\n",
              "      <td>M. Salah</td>\n",
              "      <td>240000</td>\n",
              "    </tr>\n",
              "    <tr>\n",
              "      <th>1126</th>\n",
              "      <td>M. Elneny</td>\n",
              "      <td>65000</td>\n",
              "    </tr>\n",
              "    <tr>\n",
              "      <th>1104</th>\n",
              "      <td>Trezeguet</td>\n",
              "      <td>52000</td>\n",
              "    </tr>\n",
              "    <tr>\n",
              "      <th>1862</th>\n",
              "      <td>A. Hegazi</td>\n",
              "      <td>38000</td>\n",
              "    </tr>\n",
              "    <tr>\n",
              "      <th>5406</th>\n",
              "      <td>A. Elmohamady</td>\n",
              "      <td>25000</td>\n",
              "    </tr>\n",
              "  </tbody>\n",
              "</table>\n",
              "</div>"
            ],
            "text/plain": [
              "         short_name  wage_eur\n",
              "9          M. Salah    240000\n",
              "1126      M. Elneny     65000\n",
              "1104      Trezeguet     52000\n",
              "1862      A. Hegazi     38000\n",
              "5406  A. Elmohamady     25000"
            ]
          },
          "metadata": {
            "tags": []
          },
          "execution_count": 109
        }
      ]
    },
    {
      "cell_type": "code",
      "metadata": {
        "colab": {
          "base_uri": "https://localhost:8080/",
          "height": 254
        },
        "id": "cs2Msc_Hxw4b",
        "outputId": "04d26343-13e0-47f6-884c-b90ab218d027"
      },
      "source": [
        "# see who are the 7 tallest Egyptain players (do what was in the previous cell but in one line instead)\n",
        "\n",
        "fifa_df[fifa_df['nationality']=='Egypt'][['short_name','height_cm']].sort_values(by=['height_cm'],ascending=False).head(7)\n",
        "\n",
        "# fifa_df[fifa_df['nationality']=='Egypt']  --> filter by Egyptian nationality \n",
        "# [['short_name','height_cm']] --> only show the the columns 'short_name' and 'height_cm'\n",
        "# .sort_values(by=['height_cm'],ascending=False) --> sort based on the height\n",
        "# .head(7) --> show the first 7 rows"
      ],
      "execution_count": 105,
      "outputs": [
        {
          "output_type": "execute_result",
          "data": {
            "text/html": [
              "<div>\n",
              "<style scoped>\n",
              "    .dataframe tbody tr th:only-of-type {\n",
              "        vertical-align: middle;\n",
              "    }\n",
              "\n",
              "    .dataframe tbody tr th {\n",
              "        vertical-align: top;\n",
              "    }\n",
              "\n",
              "    .dataframe thead th {\n",
              "        text-align: right;\n",
              "    }\n",
              "</style>\n",
              "<table border=\"1\" class=\"dataframe\">\n",
              "  <thead>\n",
              "    <tr style=\"text-align: right;\">\n",
              "      <th></th>\n",
              "      <th>short_name</th>\n",
              "      <th>height_cm</th>\n",
              "    </tr>\n",
              "  </thead>\n",
              "  <tbody>\n",
              "    <tr>\n",
              "      <th>1862</th>\n",
              "      <td>A. Hegazi</td>\n",
              "      <td>194</td>\n",
              "    </tr>\n",
              "    <tr>\n",
              "      <th>2846</th>\n",
              "      <td>A. Hassan</td>\n",
              "      <td>191</td>\n",
              "    </tr>\n",
              "    <tr>\n",
              "      <th>3564</th>\n",
              "      <td>A. Tarek</td>\n",
              "      <td>191</td>\n",
              "    </tr>\n",
              "    <tr>\n",
              "      <th>9472</th>\n",
              "      <td>M. El-Shenawy</td>\n",
              "      <td>191</td>\n",
              "    </tr>\n",
              "    <tr>\n",
              "      <th>2929</th>\n",
              "      <td>A. El-Shenawy</td>\n",
              "      <td>189</td>\n",
              "    </tr>\n",
              "    <tr>\n",
              "      <th>6052</th>\n",
              "      <td>A. Ghazal</td>\n",
              "      <td>189</td>\n",
              "    </tr>\n",
              "    <tr>\n",
              "      <th>4388</th>\n",
              "      <td>M. Alaa</td>\n",
              "      <td>189</td>\n",
              "    </tr>\n",
              "  </tbody>\n",
              "</table>\n",
              "</div>"
            ],
            "text/plain": [
              "         short_name  height_cm\n",
              "1862      A. Hegazi        194\n",
              "2846      A. Hassan        191\n",
              "3564       A. Tarek        191\n",
              "9472  M. El-Shenawy        191\n",
              "2929  A. El-Shenawy        189\n",
              "6052      A. Ghazal        189\n",
              "4388        M. Alaa        189"
            ]
          },
          "metadata": {
            "tags": []
          },
          "execution_count": 105
        }
      ]
    },
    {
      "cell_type": "code",
      "metadata": {
        "colab": {
          "base_uri": "https://localhost:8080/",
          "height": 343
        },
        "id": "_HHc7MQlzmY_",
        "outputId": "bebb237d-e388-4d35-c5ed-bc40d85df718"
      },
      "source": [
        "# sort liverpool players based on their heights\n",
        "\n",
        "Liverpool = fifa_df[fifa_df['club']=='Liverpool']\n",
        "\n",
        "Liverpool = Liverpool[['short_name','height_cm']]\n",
        "\n",
        "Liverpool.sort_values(by=['height_cm'],ascending=False)\n",
        "\n",
        "# show the tallest 10 players\n",
        "Liverpool.head(10)"
      ],
      "execution_count": 115,
      "outputs": [
        {
          "output_type": "execute_result",
          "data": {
            "text/html": [
              "<div>\n",
              "<style scoped>\n",
              "    .dataframe tbody tr th:only-of-type {\n",
              "        vertical-align: middle;\n",
              "    }\n",
              "\n",
              "    .dataframe tbody tr th {\n",
              "        vertical-align: top;\n",
              "    }\n",
              "\n",
              "    .dataframe thead th {\n",
              "        text-align: right;\n",
              "    }\n",
              "</style>\n",
              "<table border=\"1\" class=\"dataframe\">\n",
              "  <thead>\n",
              "    <tr style=\"text-align: right;\">\n",
              "      <th></th>\n",
              "      <th>short_name</th>\n",
              "      <th>height_cm</th>\n",
              "    </tr>\n",
              "  </thead>\n",
              "  <tbody>\n",
              "    <tr>\n",
              "      <th>7</th>\n",
              "      <td>V. van Dijk</td>\n",
              "      <td>193</td>\n",
              "    </tr>\n",
              "    <tr>\n",
              "      <th>9</th>\n",
              "      <td>M. Salah</td>\n",
              "      <td>175</td>\n",
              "    </tr>\n",
              "    <tr>\n",
              "      <th>13</th>\n",
              "      <td>Alisson</td>\n",
              "      <td>191</td>\n",
              "    </tr>\n",
              "    <tr>\n",
              "      <th>39</th>\n",
              "      <td>S. Mané</td>\n",
              "      <td>175</td>\n",
              "    </tr>\n",
              "    <tr>\n",
              "      <th>63</th>\n",
              "      <td>Roberto Firmino</td>\n",
              "      <td>181</td>\n",
              "    </tr>\n",
              "    <tr>\n",
              "      <th>81</th>\n",
              "      <td>Fabinho</td>\n",
              "      <td>188</td>\n",
              "    </tr>\n",
              "    <tr>\n",
              "      <th>82</th>\n",
              "      <td>A. Robertson</td>\n",
              "      <td>178</td>\n",
              "    </tr>\n",
              "    <tr>\n",
              "      <th>139</th>\n",
              "      <td>G. Wijnaldum</td>\n",
              "      <td>175</td>\n",
              "    </tr>\n",
              "    <tr>\n",
              "      <th>160</th>\n",
              "      <td>T. Alexander-Arnold</td>\n",
              "      <td>180</td>\n",
              "    </tr>\n",
              "    <tr>\n",
              "      <th>218</th>\n",
              "      <td>J. Henderson</td>\n",
              "      <td>182</td>\n",
              "    </tr>\n",
              "  </tbody>\n",
              "</table>\n",
              "</div>"
            ],
            "text/plain": [
              "              short_name  height_cm\n",
              "7            V. van Dijk        193\n",
              "9               M. Salah        175\n",
              "13               Alisson        191\n",
              "39               S. Mané        175\n",
              "63       Roberto Firmino        181\n",
              "81               Fabinho        188\n",
              "82          A. Robertson        178\n",
              "139         G. Wijnaldum        175\n",
              "160  T. Alexander-Arnold        180\n",
              "218         J. Henderson        182"
            ]
          },
          "metadata": {
            "tags": []
          },
          "execution_count": 115
        }
      ]
    },
    {
      "cell_type": "code",
      "metadata": {
        "colab": {
          "base_uri": "https://localhost:8080/"
        },
        "id": "y7BJumiV1rCm",
        "outputId": "abc26fab-8f78-4dda-8ccf-0b60636781c4"
      },
      "source": [
        "real_madrid = fifa_df[fifa_df['club']=='Real Madrid']\n",
        "real_madrid['nationality'].value_counts()"
      ],
      "execution_count": 118,
      "outputs": [
        {
          "output_type": "execute_result",
          "data": {
            "text/plain": [
              "Spain                 13\n",
              "Brazil                 6\n",
              "France                 3\n",
              "Belgium                2\n",
              "Wales                  1\n",
              "Germany                1\n",
              "Japan                  1\n",
              "Serbia                 1\n",
              "Uruguay                1\n",
              "Croatia                1\n",
              "Dominican Republic     1\n",
              "Costa Rica             1\n",
              "Colombia               1\n",
              "Name: nationality, dtype: int64"
            ]
          },
          "metadata": {
            "tags": []
          },
          "execution_count": 118
        }
      ]
    }
  ]
}